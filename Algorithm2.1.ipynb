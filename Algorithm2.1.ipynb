{
 "cells": [
  {
   "cell_type": "code",
   "execution_count": 30,
   "metadata": {},
   "outputs": [],
   "source": [
    "import pandas as pd"
   ]
  },
  {
   "cell_type": "code",
   "execution_count": 31,
   "metadata": {},
   "outputs": [
    {
     "data": {
      "text/html": [
       "<div>\n",
       "<style scoped>\n",
       "    .dataframe tbody tr th:only-of-type {\n",
       "        vertical-align: middle;\n",
       "    }\n",
       "\n",
       "    .dataframe tbody tr th {\n",
       "        vertical-align: top;\n",
       "    }\n",
       "\n",
       "    .dataframe thead th {\n",
       "        text-align: right;\n",
       "    }\n",
       "</style>\n",
       "<table border=\"1\" class=\"dataframe\">\n",
       "  <thead>\n",
       "    <tr style=\"text-align: right;\">\n",
       "      <th></th>\n",
       "      <th>Scheme Name</th>\n",
       "      <th>Customer Name</th>\n",
       "      <th>Property</th>\n",
       "      <th>Customer Address</th>\n",
       "      <th>Email</th>\n",
       "    </tr>\n",
       "  </thead>\n",
       "  <tbody>\n",
       "    <tr>\n",
       "      <th>0</th>\n",
       "      <td>DLF Capital Greens</td>\n",
       "      <td>ADITYA AWASTHI</td>\n",
       "      <td>CGH061</td>\n",
       "      <td>WZ-21, GOLDEN PARK, RAMPURA, DELHI - 110 035,D...</td>\n",
       "      <td>aditya.awasti@gmail.com</td>\n",
       "    </tr>\n",
       "    <tr>\n",
       "      <th>1</th>\n",
       "      <td>DLF Capital Greens</td>\n",
       "      <td>RAM GOPAL</td>\n",
       "      <td>CGE263</td>\n",
       "      <td>JEWEL SHINE, 1148, CHANDNI CHOWK, DELHI - 110 ...</td>\n",
       "      <td>pragati_2581@yahoo.com</td>\n",
       "    </tr>\n",
       "    <tr>\n",
       "      <th>2</th>\n",
       "      <td>DLF Capital Greens</td>\n",
       "      <td>ABHISHEK GOYAL</td>\n",
       "      <td>CGA035</td>\n",
       "      <td>HOUSE # 1229, PROGRESSIVE ENCLAVE, PLOT # 2, S...</td>\n",
       "      <td>ABHISHEK_GOYAL@INFOSYS.COM</td>\n",
       "    </tr>\n",
       "    <tr>\n",
       "      <th>3</th>\n",
       "      <td>DLF Capital Greens</td>\n",
       "      <td>MADAN MOHAN GUPTA</td>\n",
       "      <td>CGG202</td>\n",
       "      <td>T-29/K ROAD NO 20, BALJEET NAGAR, WEST PATEL N...</td>\n",
       "      <td>madan52@yahoo.com</td>\n",
       "    </tr>\n",
       "    <tr>\n",
       "      <th>4</th>\n",
       "      <td>DLF Capital Greens</td>\n",
       "      <td>LALIT ROHILLA</td>\n",
       "      <td>CGJ286</td>\n",
       "      <td>H-137, KARAM PURA, NEW DELHI - 110 015,Delhi, ...</td>\n",
       "      <td>rohillakamal@yahoo.co.in</td>\n",
       "    </tr>\n",
       "  </tbody>\n",
       "</table>\n",
       "</div>"
      ],
      "text/plain": [
       "          Scheme Name      Customer Name Property  \\\n",
       "0  DLF Capital Greens     ADITYA AWASTHI   CGH061   \n",
       "1  DLF Capital Greens          RAM GOPAL   CGE263   \n",
       "2  DLF Capital Greens     ABHISHEK GOYAL   CGA035   \n",
       "3  DLF Capital Greens  MADAN MOHAN GUPTA   CGG202   \n",
       "4  DLF Capital Greens      LALIT ROHILLA   CGJ286   \n",
       "\n",
       "                                    Customer Address  \\\n",
       "0  WZ-21, GOLDEN PARK, RAMPURA, DELHI - 110 035,D...   \n",
       "1  JEWEL SHINE, 1148, CHANDNI CHOWK, DELHI - 110 ...   \n",
       "2  HOUSE # 1229, PROGRESSIVE ENCLAVE, PLOT # 2, S...   \n",
       "3  T-29/K ROAD NO 20, BALJEET NAGAR, WEST PATEL N...   \n",
       "4  H-137, KARAM PURA, NEW DELHI - 110 015,Delhi, ...   \n",
       "\n",
       "                        Email  \n",
       "0     aditya.awasti@gmail.com  \n",
       "1      pragati_2581@yahoo.com  \n",
       "2  ABHISHEK_GOYAL@INFOSYS.COM  \n",
       "3           madan52@yahoo.com  \n",
       "4    rohillakamal@yahoo.co.in  "
      ]
     },
     "execution_count": 31,
     "metadata": {},
     "output_type": "execute_result"
    }
   ],
   "source": [
    "data = pd.read_csv('Capital Greens.csv')\n",
    "data.head()"
   ]
  },
  {
   "cell_type": "code",
   "execution_count": 32,
   "metadata": {},
   "outputs": [],
   "source": [
    "new1 = data['Customer Address'].str.split(\"Phone No.\",expand =True)"
   ]
  },
  {
   "cell_type": "code",
   "execution_count": 33,
   "metadata": {},
   "outputs": [],
   "source": [
    "df1=data.drop('Customer Address',axis=1);"
   ]
  },
  {
   "cell_type": "code",
   "execution_count": 34,
   "metadata": {},
   "outputs": [
    {
     "data": {
      "text/html": [
       "<div>\n",
       "<style scoped>\n",
       "    .dataframe tbody tr th:only-of-type {\n",
       "        vertical-align: middle;\n",
       "    }\n",
       "\n",
       "    .dataframe tbody tr th {\n",
       "        vertical-align: top;\n",
       "    }\n",
       "\n",
       "    .dataframe thead th {\n",
       "        text-align: right;\n",
       "    }\n",
       "</style>\n",
       "<table border=\"1\" class=\"dataframe\">\n",
       "  <thead>\n",
       "    <tr style=\"text-align: right;\">\n",
       "      <th></th>\n",
       "      <th>Scheme Name</th>\n",
       "      <th>Customer Name</th>\n",
       "      <th>Property</th>\n",
       "      <th>Email</th>\n",
       "      <th>Address</th>\n",
       "      <th>Contact</th>\n",
       "    </tr>\n",
       "  </thead>\n",
       "  <tbody>\n",
       "    <tr>\n",
       "      <th>0</th>\n",
       "      <td>DLF Capital Greens</td>\n",
       "      <td>ADITYA AWASTHI</td>\n",
       "      <td>CGH061</td>\n",
       "      <td>aditya.awasti@gmail.com</td>\n",
       "      <td>WZ-21, GOLDEN PARK, RAMPURA, DELHI - 110 035,D...</td>\n",
       "      <td>011-28313222\\n Mobile No. 9717640627\\n Email ...</td>\n",
       "    </tr>\n",
       "    <tr>\n",
       "      <th>1</th>\n",
       "      <td>DLF Capital Greens</td>\n",
       "      <td>RAM GOPAL</td>\n",
       "      <td>CGE263</td>\n",
       "      <td>pragati_2581@yahoo.com</td>\n",
       "      <td>JEWEL SHINE, 1148, CHANDNI CHOWK, DELHI - 110 ...</td>\n",
       "      <td>011-23982244\\n Mobile No. 9899555945\\n Email ...</td>\n",
       "    </tr>\n",
       "    <tr>\n",
       "      <th>2</th>\n",
       "      <td>DLF Capital Greens</td>\n",
       "      <td>ABHISHEK GOYAL</td>\n",
       "      <td>CGA035</td>\n",
       "      <td>ABHISHEK_GOYAL@INFOSYS.COM</td>\n",
       "      <td>HOUSE # 1229, PROGRESSIVE ENCLAVE, PLOT # 2, S...</td>\n",
       "      <td>0172-4679695\\n Mobile No. 9779456043\\n Email ...</td>\n",
       "    </tr>\n",
       "    <tr>\n",
       "      <th>3</th>\n",
       "      <td>DLF Capital Greens</td>\n",
       "      <td>MADAN MOHAN GUPTA</td>\n",
       "      <td>CGG202</td>\n",
       "      <td>madan52@yahoo.com</td>\n",
       "      <td>T-29/K ROAD NO 20, BALJEET NAGAR, WEST PATEL N...</td>\n",
       "      <td>011-64522394\\n Mobile No. 0986867719\\n Email ...</td>\n",
       "    </tr>\n",
       "    <tr>\n",
       "      <th>4</th>\n",
       "      <td>DLF Capital Greens</td>\n",
       "      <td>LALIT ROHILLA</td>\n",
       "      <td>CGJ286</td>\n",
       "      <td>rohillakamal@yahoo.co.in</td>\n",
       "      <td>H-137, KARAM PURA, NEW DELHI - 110 015,Delhi, ...</td>\n",
       "      <td>9810313266\\n \\n Email ID. rohillakamal@yahoo....</td>\n",
       "    </tr>\n",
       "  </tbody>\n",
       "</table>\n",
       "</div>"
      ],
      "text/plain": [
       "          Scheme Name      Customer Name Property                       Email  \\\n",
       "0  DLF Capital Greens     ADITYA AWASTHI   CGH061     aditya.awasti@gmail.com   \n",
       "1  DLF Capital Greens          RAM GOPAL   CGE263      pragati_2581@yahoo.com   \n",
       "2  DLF Capital Greens     ABHISHEK GOYAL   CGA035  ABHISHEK_GOYAL@INFOSYS.COM   \n",
       "3  DLF Capital Greens  MADAN MOHAN GUPTA   CGG202           madan52@yahoo.com   \n",
       "4  DLF Capital Greens      LALIT ROHILLA   CGJ286    rohillakamal@yahoo.co.in   \n",
       "\n",
       "                                             Address  \\\n",
       "0  WZ-21, GOLDEN PARK, RAMPURA, DELHI - 110 035,D...   \n",
       "1  JEWEL SHINE, 1148, CHANDNI CHOWK, DELHI - 110 ...   \n",
       "2  HOUSE # 1229, PROGRESSIVE ENCLAVE, PLOT # 2, S...   \n",
       "3  T-29/K ROAD NO 20, BALJEET NAGAR, WEST PATEL N...   \n",
       "4  H-137, KARAM PURA, NEW DELHI - 110 015,Delhi, ...   \n",
       "\n",
       "                                             Contact  \n",
       "0   011-28313222\\n Mobile No. 9717640627\\n Email ...  \n",
       "1   011-23982244\\n Mobile No. 9899555945\\n Email ...  \n",
       "2   0172-4679695\\n Mobile No. 9779456043\\n Email ...  \n",
       "3   011-64522394\\n Mobile No. 0986867719\\n Email ...  \n",
       "4   9810313266\\n \\n Email ID. rohillakamal@yahoo....  "
      ]
     },
     "execution_count": 34,
     "metadata": {},
     "output_type": "execute_result"
    }
   ],
   "source": [
    "df1['Address'] = new1[0]\n",
    "df1['Contact'] = new1[1]\n",
    "df1.head()"
   ]
  },
  {
   "cell_type": "code",
   "execution_count": 35,
   "metadata": {},
   "outputs": [],
   "source": [
    "df1.to_csv('File1.csv')"
   ]
  },
  {
   "cell_type": "code",
   "execution_count": 36,
   "metadata": {},
   "outputs": [],
   "source": [
    "new2 = df1['Contact'].str.split(\"Email ID.\",expand =True)"
   ]
  },
  {
   "cell_type": "code",
   "execution_count": 37,
   "metadata": {},
   "outputs": [],
   "source": [
    "df2 = df1.drop('Contact',axis=1)"
   ]
  },
  {
   "cell_type": "code",
   "execution_count": 38,
   "metadata": {},
   "outputs": [
    {
     "data": {
      "text/html": [
       "<div>\n",
       "<style scoped>\n",
       "    .dataframe tbody tr th:only-of-type {\n",
       "        vertical-align: middle;\n",
       "    }\n",
       "\n",
       "    .dataframe tbody tr th {\n",
       "        vertical-align: top;\n",
       "    }\n",
       "\n",
       "    .dataframe thead th {\n",
       "        text-align: right;\n",
       "    }\n",
       "</style>\n",
       "<table border=\"1\" class=\"dataframe\">\n",
       "  <thead>\n",
       "    <tr style=\"text-align: right;\">\n",
       "      <th></th>\n",
       "      <th>Scheme Name</th>\n",
       "      <th>Customer Name</th>\n",
       "      <th>Property</th>\n",
       "      <th>Email</th>\n",
       "      <th>Address</th>\n",
       "      <th>Phone Number</th>\n",
       "      <th>E Mail1</th>\n",
       "    </tr>\n",
       "  </thead>\n",
       "  <tbody>\n",
       "    <tr>\n",
       "      <th>0</th>\n",
       "      <td>DLF Capital Greens</td>\n",
       "      <td>ADITYA AWASTHI</td>\n",
       "      <td>CGH061</td>\n",
       "      <td>aditya.awasti@gmail.com</td>\n",
       "      <td>WZ-21, GOLDEN PARK, RAMPURA, DELHI - 110 035,D...</td>\n",
       "      <td>011-28313222\\n Mobile No. 9717640627\\n</td>\n",
       "      <td>aditya.awasti@gmail.com</td>\n",
       "    </tr>\n",
       "    <tr>\n",
       "      <th>1</th>\n",
       "      <td>DLF Capital Greens</td>\n",
       "      <td>RAM GOPAL</td>\n",
       "      <td>CGE263</td>\n",
       "      <td>pragati_2581@yahoo.com</td>\n",
       "      <td>JEWEL SHINE, 1148, CHANDNI CHOWK, DELHI - 110 ...</td>\n",
       "      <td>011-23982244\\n Mobile No. 9899555945\\n</td>\n",
       "      <td>pragati_2581@yahoo.com</td>\n",
       "    </tr>\n",
       "    <tr>\n",
       "      <th>2</th>\n",
       "      <td>DLF Capital Greens</td>\n",
       "      <td>ABHISHEK GOYAL</td>\n",
       "      <td>CGA035</td>\n",
       "      <td>ABHISHEK_GOYAL@INFOSYS.COM</td>\n",
       "      <td>HOUSE # 1229, PROGRESSIVE ENCLAVE, PLOT # 2, S...</td>\n",
       "      <td>0172-4679695\\n Mobile No. 9779456043\\n</td>\n",
       "      <td>ABHISHEK_GOYAL@INFOSYS.COM</td>\n",
       "    </tr>\n",
       "    <tr>\n",
       "      <th>3</th>\n",
       "      <td>DLF Capital Greens</td>\n",
       "      <td>MADAN MOHAN GUPTA</td>\n",
       "      <td>CGG202</td>\n",
       "      <td>madan52@yahoo.com</td>\n",
       "      <td>T-29/K ROAD NO 20, BALJEET NAGAR, WEST PATEL N...</td>\n",
       "      <td>011-64522394\\n Mobile No. 0986867719\\n</td>\n",
       "      <td>madan52@yahoo.com</td>\n",
       "    </tr>\n",
       "    <tr>\n",
       "      <th>4</th>\n",
       "      <td>DLF Capital Greens</td>\n",
       "      <td>LALIT ROHILLA</td>\n",
       "      <td>CGJ286</td>\n",
       "      <td>rohillakamal@yahoo.co.in</td>\n",
       "      <td>H-137, KARAM PURA, NEW DELHI - 110 015,Delhi, ...</td>\n",
       "      <td>9810313266\\n \\n</td>\n",
       "      <td>rohillakamal@yahoo.co.in</td>\n",
       "    </tr>\n",
       "  </tbody>\n",
       "</table>\n",
       "</div>"
      ],
      "text/plain": [
       "          Scheme Name      Customer Name Property                       Email  \\\n",
       "0  DLF Capital Greens     ADITYA AWASTHI   CGH061     aditya.awasti@gmail.com   \n",
       "1  DLF Capital Greens          RAM GOPAL   CGE263      pragati_2581@yahoo.com   \n",
       "2  DLF Capital Greens     ABHISHEK GOYAL   CGA035  ABHISHEK_GOYAL@INFOSYS.COM   \n",
       "3  DLF Capital Greens  MADAN MOHAN GUPTA   CGG202           madan52@yahoo.com   \n",
       "4  DLF Capital Greens      LALIT ROHILLA   CGJ286    rohillakamal@yahoo.co.in   \n",
       "\n",
       "                                             Address  \\\n",
       "0  WZ-21, GOLDEN PARK, RAMPURA, DELHI - 110 035,D...   \n",
       "1  JEWEL SHINE, 1148, CHANDNI CHOWK, DELHI - 110 ...   \n",
       "2  HOUSE # 1229, PROGRESSIVE ENCLAVE, PLOT # 2, S...   \n",
       "3  T-29/K ROAD NO 20, BALJEET NAGAR, WEST PATEL N...   \n",
       "4  H-137, KARAM PURA, NEW DELHI - 110 015,Delhi, ...   \n",
       "\n",
       "                               Phone Number                      E Mail1  \n",
       "0   011-28313222\\n Mobile No. 9717640627\\n       aditya.awasti@gmail.com  \n",
       "1   011-23982244\\n Mobile No. 9899555945\\n        pragati_2581@yahoo.com  \n",
       "2   0172-4679695\\n Mobile No. 9779456043\\n    ABHISHEK_GOYAL@INFOSYS.COM  \n",
       "3   011-64522394\\n Mobile No. 0986867719\\n             madan52@yahoo.com  \n",
       "4                          9810313266\\n \\n      rohillakamal@yahoo.co.in  "
      ]
     },
     "execution_count": 38,
     "metadata": {},
     "output_type": "execute_result"
    }
   ],
   "source": [
    "df2['Phone Number'] = new2[0]\n",
    "df2['E Mail1']  =new2[1]\n",
    "df2.head()"
   ]
  },
  {
   "cell_type": "code",
   "execution_count": 39,
   "metadata": {},
   "outputs": [],
   "source": [
    "df2.to_csv('File1.csv')"
   ]
  },
  {
   "cell_type": "code",
   "execution_count": 40,
   "metadata": {},
   "outputs": [],
   "source": [
    "new3 = df1['Address'].str.split(\"Email ID.\",expand =True)"
   ]
  },
  {
   "cell_type": "code",
   "execution_count": 41,
   "metadata": {},
   "outputs": [],
   "source": [
    "df2['Address'] = new3[0]\n",
    "df2['E1'] = new3[1]"
   ]
  },
  {
   "cell_type": "code",
   "execution_count": 42,
   "metadata": {},
   "outputs": [],
   "source": [
    "new4 = df2['Phone Number'].str.split(\"Mobile No.\",expand =True)"
   ]
  },
  {
   "cell_type": "code",
   "execution_count": 43,
   "metadata": {},
   "outputs": [],
   "source": [
    "df3 = df2.drop('Phone Number',axis = 1);"
   ]
  },
  {
   "cell_type": "code",
   "execution_count": 44,
   "metadata": {},
   "outputs": [],
   "source": [
    "df3['Ph. No.'] = new4[0]\n",
    "df3['Mobile No.'] = new4[1]"
   ]
  },
  {
   "cell_type": "code",
   "execution_count": 45,
   "metadata": {},
   "outputs": [],
   "source": [
    "df3.to_csv('File1.csv')"
   ]
  },
  {
   "cell_type": "code",
   "execution_count": 46,
   "metadata": {},
   "outputs": [],
   "source": [
    "df3['Mail Address'] = df3['E Mail1'].map(str) + ',' + df3['E1'].map(str) + ',' + df3['E1'].map(str) \n",
    "#for rows in df3:\n",
    " #   df3[\"Mail Address\"]  = pd.concat(df3[\"E mail\"],df3[\"E Mail1\"], df3[\"E1\"]) "
   ]
  },
  {
   "cell_type": "code",
   "execution_count": 47,
   "metadata": {},
   "outputs": [],
   "source": [
    "#df3.drop"
   ]
  },
  {
   "cell_type": "code",
   "execution_count": 48,
   "metadata": {},
   "outputs": [
    {
     "data": {
      "text/html": [
       "<div>\n",
       "<style scoped>\n",
       "    .dataframe tbody tr th:only-of-type {\n",
       "        vertical-align: middle;\n",
       "    }\n",
       "\n",
       "    .dataframe tbody tr th {\n",
       "        vertical-align: top;\n",
       "    }\n",
       "\n",
       "    .dataframe thead th {\n",
       "        text-align: right;\n",
       "    }\n",
       "</style>\n",
       "<table border=\"1\" class=\"dataframe\">\n",
       "  <thead>\n",
       "    <tr style=\"text-align: right;\">\n",
       "      <th></th>\n",
       "      <th>Scheme Name</th>\n",
       "      <th>Customer Name</th>\n",
       "      <th>Property</th>\n",
       "      <th>Email</th>\n",
       "      <th>Address</th>\n",
       "      <th>E Mail1</th>\n",
       "      <th>E1</th>\n",
       "      <th>Ph. No.</th>\n",
       "      <th>Mobile No.</th>\n",
       "      <th>Mail Address</th>\n",
       "    </tr>\n",
       "  </thead>\n",
       "  <tbody>\n",
       "    <tr>\n",
       "      <th>0</th>\n",
       "      <td>DLF Capital Greens</td>\n",
       "      <td>ADITYA AWASTHI</td>\n",
       "      <td>CGH061</td>\n",
       "      <td>aditya.awasti@gmail.com</td>\n",
       "      <td>WZ-21, GOLDEN PARK, RAMPURA, DELHI - 110 035,D...</td>\n",
       "      <td>aditya.awasti@gmail.com</td>\n",
       "      <td>None</td>\n",
       "      <td>011-28313222\\n</td>\n",
       "      <td>9717640627\\n</td>\n",
       "      <td>aditya.awasti@gmail.com,None,None</td>\n",
       "    </tr>\n",
       "    <tr>\n",
       "      <th>1</th>\n",
       "      <td>DLF Capital Greens</td>\n",
       "      <td>RAM GOPAL</td>\n",
       "      <td>CGE263</td>\n",
       "      <td>pragati_2581@yahoo.com</td>\n",
       "      <td>JEWEL SHINE, 1148, CHANDNI CHOWK, DELHI - 110 ...</td>\n",
       "      <td>pragati_2581@yahoo.com</td>\n",
       "      <td>None</td>\n",
       "      <td>011-23982244\\n</td>\n",
       "      <td>9899555945\\n</td>\n",
       "      <td>pragati_2581@yahoo.com,None,None</td>\n",
       "    </tr>\n",
       "    <tr>\n",
       "      <th>2</th>\n",
       "      <td>DLF Capital Greens</td>\n",
       "      <td>ABHISHEK GOYAL</td>\n",
       "      <td>CGA035</td>\n",
       "      <td>ABHISHEK_GOYAL@INFOSYS.COM</td>\n",
       "      <td>HOUSE # 1229, PROGRESSIVE ENCLAVE, PLOT # 2, S...</td>\n",
       "      <td>ABHISHEK_GOYAL@INFOSYS.COM</td>\n",
       "      <td>None</td>\n",
       "      <td>0172-4679695\\n</td>\n",
       "      <td>9779456043\\n</td>\n",
       "      <td>ABHISHEK_GOYAL@INFOSYS.COM,None,None</td>\n",
       "    </tr>\n",
       "    <tr>\n",
       "      <th>3</th>\n",
       "      <td>DLF Capital Greens</td>\n",
       "      <td>MADAN MOHAN GUPTA</td>\n",
       "      <td>CGG202</td>\n",
       "      <td>madan52@yahoo.com</td>\n",
       "      <td>T-29/K ROAD NO 20, BALJEET NAGAR, WEST PATEL N...</td>\n",
       "      <td>madan52@yahoo.com</td>\n",
       "      <td>None</td>\n",
       "      <td>011-64522394\\n</td>\n",
       "      <td>0986867719\\n</td>\n",
       "      <td>madan52@yahoo.com,None,None</td>\n",
       "    </tr>\n",
       "    <tr>\n",
       "      <th>4</th>\n",
       "      <td>DLF Capital Greens</td>\n",
       "      <td>LALIT ROHILLA</td>\n",
       "      <td>CGJ286</td>\n",
       "      <td>rohillakamal@yahoo.co.in</td>\n",
       "      <td>H-137, KARAM PURA, NEW DELHI - 110 015,Delhi, ...</td>\n",
       "      <td>rohillakamal@yahoo.co.in</td>\n",
       "      <td>None</td>\n",
       "      <td>9810313266\\n \\n</td>\n",
       "      <td>None</td>\n",
       "      <td>rohillakamal@yahoo.co.in,None,None</td>\n",
       "    </tr>\n",
       "  </tbody>\n",
       "</table>\n",
       "</div>"
      ],
      "text/plain": [
       "          Scheme Name      Customer Name Property                       Email  \\\n",
       "0  DLF Capital Greens     ADITYA AWASTHI   CGH061     aditya.awasti@gmail.com   \n",
       "1  DLF Capital Greens          RAM GOPAL   CGE263      pragati_2581@yahoo.com   \n",
       "2  DLF Capital Greens     ABHISHEK GOYAL   CGA035  ABHISHEK_GOYAL@INFOSYS.COM   \n",
       "3  DLF Capital Greens  MADAN MOHAN GUPTA   CGG202           madan52@yahoo.com   \n",
       "4  DLF Capital Greens      LALIT ROHILLA   CGJ286    rohillakamal@yahoo.co.in   \n",
       "\n",
       "                                             Address  \\\n",
       "0  WZ-21, GOLDEN PARK, RAMPURA, DELHI - 110 035,D...   \n",
       "1  JEWEL SHINE, 1148, CHANDNI CHOWK, DELHI - 110 ...   \n",
       "2  HOUSE # 1229, PROGRESSIVE ENCLAVE, PLOT # 2, S...   \n",
       "3  T-29/K ROAD NO 20, BALJEET NAGAR, WEST PATEL N...   \n",
       "4  H-137, KARAM PURA, NEW DELHI - 110 015,Delhi, ...   \n",
       "\n",
       "                       E Mail1    E1            Ph. No.      Mobile No.  \\\n",
       "0      aditya.awasti@gmail.com  None    011-28313222\\n    9717640627\\n    \n",
       "1       pragati_2581@yahoo.com  None    011-23982244\\n    9899555945\\n    \n",
       "2   ABHISHEK_GOYAL@INFOSYS.COM  None    0172-4679695\\n    9779456043\\n    \n",
       "3            madan52@yahoo.com  None    011-64522394\\n    0986867719\\n    \n",
       "4     rohillakamal@yahoo.co.in  None   9810313266\\n \\n             None   \n",
       "\n",
       "                            Mail Address  \n",
       "0      aditya.awasti@gmail.com,None,None  \n",
       "1       pragati_2581@yahoo.com,None,None  \n",
       "2   ABHISHEK_GOYAL@INFOSYS.COM,None,None  \n",
       "3            madan52@yahoo.com,None,None  \n",
       "4     rohillakamal@yahoo.co.in,None,None  "
      ]
     },
     "execution_count": 48,
     "metadata": {},
     "output_type": "execute_result"
    }
   ],
   "source": [
    "df3.head()"
   ]
  },
  {
   "cell_type": "code",
   "execution_count": 49,
   "metadata": {},
   "outputs": [],
   "source": [
    "new5 = df3['Address'].str.split(\"Mobile No.\",expand =True)"
   ]
  },
  {
   "cell_type": "code",
   "execution_count": 50,
   "metadata": {},
   "outputs": [],
   "source": [
    "df3['Address'] = new5[0]\n",
    "df3['Mobile No.1'] = new5[1]"
   ]
  },
  {
   "cell_type": "code",
   "execution_count": 51,
   "metadata": {},
   "outputs": [],
   "source": [
    "df3['Mobile Number'] =  df3['Mobile No.'].map(str) + ',' + df3['Ph. No.'].map(str) +df3['Mobile No.1'].map(str) \n",
    "#for rows in df3:\n",
    " #   df3[\"Mail Address\"]  = pd.concat(df3[\"E mail\"],df3[\"E Mail1\"], df3[\"E1\"]) "
   ]
  },
  {
   "cell_type": "code",
   "execution_count": 54,
   "metadata": {},
   "outputs": [
    {
     "ename": "NameError",
     "evalue": "name 'df4' is not defined",
     "output_type": "error",
     "traceback": [
      "\u001b[1;31m---------------------------------------------------------------------------\u001b[0m",
      "\u001b[1;31mNameError\u001b[0m                                 Traceback (most recent call last)",
      "\u001b[1;32m<ipython-input-54-b9e23aa6db1a>\u001b[0m in \u001b[0;36m<module>\u001b[1;34m\u001b[0m\n\u001b[1;32m----> 1\u001b[1;33m \u001b[0mdf4\u001b[0m\u001b[1;33m.\u001b[0m\u001b[0mhead\u001b[0m\u001b[1;33m(\u001b[0m\u001b[1;33m)\u001b[0m\u001b[1;33m\u001b[0m\u001b[1;33m\u001b[0m\u001b[0m\n\u001b[0m",
      "\u001b[1;31mNameError\u001b[0m: name 'df4' is not defined"
     ]
    }
   ],
   "source": []
  },
  {
   "cell_type": "code",
   "execution_count": null,
   "metadata": {},
   "outputs": [],
   "source": []
  },
  {
   "cell_type": "code",
   "execution_count": null,
   "metadata": {},
   "outputs": [],
   "source": []
  },
  {
   "cell_type": "code",
   "execution_count": null,
   "metadata": {},
   "outputs": [],
   "source": [
    "df2.to_excel('Finall NTH.xlsx')"
   ]
  }
 ],
 "metadata": {
  "kernelspec": {
   "display_name": "Python 3",
   "language": "python",
   "name": "python3"
  },
  "language_info": {
   "codemirror_mode": {
    "name": "ipython",
    "version": 3
   },
   "file_extension": ".py",
   "mimetype": "text/x-python",
   "name": "python",
   "nbconvert_exporter": "python",
   "pygments_lexer": "ipython3",
   "version": "3.8.8"
  }
 },
 "nbformat": 4,
 "nbformat_minor": 4
}
